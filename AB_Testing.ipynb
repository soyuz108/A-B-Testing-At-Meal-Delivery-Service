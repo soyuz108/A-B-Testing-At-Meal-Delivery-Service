{
 "cells": [
  {
   "cell_type": "markdown",
   "metadata": {},
   "source": [
    "### A/B Testing at Nosh Mish Mosh\n",
    "The Nosh Mish Mosh is a recipe and ingredient meal delivery service. They ship the raw materials and you get to cook them at home. They’ve decided to make some product and interface decisions and need meaningful advice."
   ]
  },
  {
   "cell_type": "code",
   "execution_count": 14,
   "metadata": {},
   "outputs": [],
   "source": [
    "# Load the data (exposed as a library)\n",
    "import data\n",
    "\n",
    "# Import libraries\n",
    "import numpy as np"
   ]
  },
  {
   "cell_type": "markdown",
   "metadata": {},
   "source": [
    "\n",
    "Nosh Mish Mosh wants to run an experiment to see if we can convince more people to purchase meal plans if we use a more artisanal-looking vegetable selection.\n",
    "\n",
    "Before running this experiment, we need to know the sample size that will be required to detect the difference we are hoping for. There are three things we need to know before we can determine that number:\n",
    "- Baseline Conversion Rate\n",
    "- Minimum Detectable Effect (desired lift)\n",
    "- Statistical Significance Threshold\n",
    "\n",
    "In order to get our baseline, we need to first know how many users visit the site in a typical week. Let’s grab that logged information, which is stored in `data.customer_visits` and assign it to a new variable called `all_visitors`."
   ]
  },
  {
   "cell_type": "code",
   "execution_count": 15,
   "metadata": {},
   "outputs": [],
   "source": [
    "# Assign customer visits data to a variable\n",
    "all_visitors = data.customer_visits\n",
    "\n",
    "# Separate paying customers\n",
    "paying_visitors = data.purchasing_customers\n",
    "\n",
    "# Calculate the length\n",
    "total_visitor_count = len(all_visitors)\n",
    "paying_visitor_count = len(paying_visitors)"
   ]
  },
  {
   "cell_type": "markdown",
   "metadata": {},
   "source": [
    "Now we want to get the baseline: divide the number of purchasing visitors by the number of total visitors. Since we want a percentage as our answer, we'll multiply the result by 100."
   ]
  },
  {
   "cell_type": "code",
   "execution_count": 16,
   "metadata": {},
   "outputs": [
    {
     "name": "stdout",
     "output_type": "stream",
     "text": [
      "18.6\n"
     ]
    }
   ],
   "source": [
    "# Save the baseline\n",
    "baseline_percent = paying_visitor_count / total_visitor_count * 100\n",
    "# Print the result\n",
    "print(baseline_percent)"
   ]
  },
  {
   "cell_type": "markdown",
   "metadata": {},
   "source": [
    "The client would like to know for sure that, with the change, they’ll be pulling in at least $1,240 more every week. In order to figure out how many more customers we need, we’ll have to investigate the average revenue generated from a given sale."
   ]
  },
  {
   "cell_type": "code",
   "execution_count": 17,
   "metadata": {},
   "outputs": [],
   "source": [
    "# Save the money spent by each customer in a typical week\n",
    "payment_history = data.money_spent"
   ]
  },
  {
   "cell_type": "markdown",
   "metadata": {},
   "source": [
    "We need to find how many purchases it would take to reach $1,240 in additional revenue using our historical data. Let’s start with computing the average payment per paying customer."
   ]
  },
  {
   "cell_type": "code",
   "execution_count": 18,
   "metadata": {},
   "outputs": [],
   "source": [
    "# Save the average payment per paying customer\n",
    "average_payment = np.mean(payment_history)"
   ]
  },
  {
   "cell_type": "markdown",
   "metadata": {},
   "source": [
    "We want to know how many of these “usual” payments it would take to clear our mark."
   ]
  },
  {
   "cell_type": "code",
   "execution_count": 19,
   "metadata": {},
   "outputs": [],
   "source": [
    "# Calculate the number of customers needed and round it\n",
    "new_customers_needed = np.ceil(1240 / average_payment)"
   ]
  },
  {
   "cell_type": "markdown",
   "metadata": {},
   "source": [
    "\n",
    "Now we want to find the additional percent of weekly visitors who must make a purchase in order to make this change worthwhile. We'll divide the number of customers by the total visitor count for a typical week (calculated earlier), and multiply by 100."
   ]
  },
  {
   "cell_type": "code",
   "execution_count": 20,
   "metadata": {},
   "outputs": [],
   "source": [
    "# Save the additional percent of weekly visitors\n",
    "percentage_point_increase = new_customers_needed / total_visitor_count * 100"
   ]
  },
  {
   "cell_type": "markdown",
   "metadata": {},
   "source": [
    "\n",
    "In order to find our minimum detectable effect/desired lift, we need to express `percentage_point_increase` as a percent of `baseline_percent`. We can do this by dividing `percentage_point_increase` by `baseline_percent` and multiplying by 100."
   ]
  },
  {
   "cell_type": "code",
   "execution_count": 21,
   "metadata": {},
   "outputs": [
    {
     "name": "stdout",
     "output_type": "stream",
     "text": [
      "50.53763440860215\n"
     ]
    }
   ],
   "source": [
    "# Calculate our minimum detectable effect\n",
    "mde = percentage_point_increase / baseline_percent * 100\n",
    "# Print the results\n",
    "print(mde)"
   ]
  },
  {
   "cell_type": "markdown",
   "metadata": {},
   "source": [
    "### Tying It All Together\n",
    "The last thing we need to calculate the sample size for Nosh Mish Mosh’s rebranding is our statistical significance threshold. We’d like to be fairly certain so we go with 10%. \n",
    "\n",
    "We'll fill out the form of the A/B testing calculator and evaluate how many people need to be shown the new assets before we can check if the results are a significant improvement."
   ]
  },
  {
   "cell_type": "code",
   "execution_count": 22,
   "metadata": {},
   "outputs": [],
   "source": [
    "# Save the sample size for the AB testing\n",
    "ab_sample_size = 530"
   ]
  }
 ],
 "metadata": {
  "kernelspec": {
   "display_name": "Python 3.9.12 ('base')",
   "language": "python",
   "name": "python3"
  },
  "language_info": {
   "codemirror_mode": {
    "name": "ipython",
    "version": 3
   },
   "file_extension": ".py",
   "mimetype": "text/x-python",
   "name": "python",
   "nbconvert_exporter": "python",
   "pygments_lexer": "ipython3",
   "version": "3.9.12"
  },
  "orig_nbformat": 4,
  "vscode": {
   "interpreter": {
    "hash": "bad3e0717367b3cff4aae9c6c5645f8f35fe4ca9a016dd7720b001d80364b124"
   }
  }
 },
 "nbformat": 4,
 "nbformat_minor": 2
}
